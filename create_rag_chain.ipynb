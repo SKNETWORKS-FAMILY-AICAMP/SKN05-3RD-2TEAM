{
 "cells": [
  {
   "cell_type": "markdown",
   "metadata": {
    "id": "n4KouLzSf75C"
   },
   "source": [
    "# Create RAG Chain"
   ]
  },
  {
   "cell_type": "markdown",
   "metadata": {
    "id": "q0RGzs82f9_j"
   },
   "source": [
    "## Library Import"
   ]
  },
  {
   "cell_type": "code",
   "execution_count": 7,
   "metadata": {
    "id": "eI1qsn09vhJu"
   },
   "outputs": [],
   "source": [
    "import os\n",
    "import re\n",
    "import fitz\n",
    "import glob\n",
    "\n",
    "from langchain_community.document_loaders import CSVLoader\n",
    "from langchain.text_splitter import RecursiveCharacterTextSplitter\n",
    "from langchain.vectorstores import Chroma\n",
    "from langchain_openai import OpenAIEmbeddings\n",
    "from langchain_core.prompts import ChatPromptTemplate\n",
    "from langchain_openai import ChatOpenAI\n",
    "from langchain_core.runnables import RunnablePassthrough\n",
    "from langchain_core.output_parsers import StrOutputParser\n",
    "\n",
    "from resource.config import api_key"
   ]
  },
  {
   "cell_type": "markdown",
   "metadata": {
    "id": "ReLG199JgQJD"
   },
   "source": [
    "## Open AI API Authencation key"
   ]
  },
  {
   "cell_type": "code",
   "execution_count": 8,
   "metadata": {
    "colab": {
     "base_uri": "https://localhost:8080/",
     "height": 35
    },
    "id": "CxNxx0R_gM5h",
    "outputId": "56419354-c60b-45de-c724-7eb75887eacb"
   },
   "outputs": [],
   "source": [
    "os.environ['OPENAI_API_KEY'] = api_key"
   ]
  },
  {
   "cell_type": "markdown",
   "metadata": {
    "id": "fSX0gtnZgWu1"
   },
   "source": [
    "## Data Load"
   ]
  },
  {
   "cell_type": "code",
   "execution_count": 9,
   "metadata": {
    "colab": {
     "base_uri": "https://localhost:8080/"
    },
    "id": "APpoS8mLvefe",
    "outputId": "8f460012-b236-45bc-a34d-e312539848ee"
   },
   "outputs": [],
   "source": [
    "pdf_path = './data/manual/'\n",
    "csv_path = './data/hospital_loc/hospital_loc.csv'"
   ]
  },
  {
   "cell_type": "markdown",
   "metadata": {
    "id": "OfsTxu2rJ2LE"
   },
   "source": [
    "## Define RAG Chainer"
   ]
  },
  {
   "cell_type": "code",
   "execution_count": 10,
   "metadata": {
    "id": "Bwtz03_KClPR"
   },
   "outputs": [],
   "source": [
    "class EmergencyRAGChainer:\n",
    "  def __init__(self, dir_path, csv_path):\n",
    "    self.dir_path = dir_path\n",
    "    self.csv_path = csv_path\n",
    "    self.csv_loader = CSVLoader(self.csv_path)\n",
    "    self.text_splitter = RecursiveCharacterTextSplitter(\n",
    "        chunk_size = 500,\n",
    "        chunk_overlap  = 100,\n",
    "        length_function = len\n",
    "    )\n",
    "    self.embedding_model = OpenAIEmbeddings()\n",
    "    template = '''Answer the question in korean, based only on the following context:\n",
    "    {context}\n",
    "\n",
    "    Question: {question}\n",
    "    '''\n",
    "    self.prompt = ChatPromptTemplate.from_template(template)\n",
    "    self.model = ChatOpenAI(\n",
    "        model='gpt-4o-mini',\n",
    "        temperature=0,\n",
    "        max_tokens=500,\n",
    "    )\n",
    "\n",
    "  def extract_text_pdf(self, pdf_path):\n",
    "      docs = fitz.open(pdf_path)\n",
    "      elements = []\n",
    "      for page in docs:\n",
    "          text = page.get_text()\n",
    "          elements.append({'text':text.strip()})\n",
    "      docs.close()\n",
    "      return elements\n",
    "\n",
    "  def load_data(self):\n",
    "    pdf_files = glob.glob(os.path.join(self.dir_path, '**', '*.*'), recursive=True)\n",
    "    pdf_docs = []\n",
    "    for pdf_file in pdf_files:\n",
    "      pdf_docs.extend(self.extract_text_pdf(pdf_file))\n",
    "\n",
    "    csv_docs = self.csv_loader.load()\n",
    "\n",
    "    return pdf_docs, csv_docs\n",
    "\n",
    "  def preprocess(self, pdf_docs, csv_docs):\n",
    "    cleaned_pdf = []\n",
    "    for doc in pdf_docs:\n",
    "      if doc['text']:\n",
    "        doc['text'] = re.sub('^[ㄱ-ㅎㅏ-ㅣ가-힣 ]', '', doc['text']).replace('▶', '').replace('·', '')\\\n",
    "                                                                    .replace(' · ', '').replace('\\n', ' ')\\\n",
    "                                                                    .replace('\\x01', ' ').replace('\\x07', '')\\\n",
    "                                                                    .replace('•', '').replace('※', '')\n",
    "        doc['text'] = re.sub(r'\\s+', ' ', doc['text'])\n",
    "        cleaned_pdf.append(doc)\n",
    "\n",
    "    for doc in csv_docs:\n",
    "      doc.page_content = re.sub('^[ㄱ-ㅎㅏ-ㅣ가-힣0-9a-zA-Z ]', '', doc.page_content).replace('\\ufeff', '').replace('\\n', ' ')\n",
    "\n",
    "    return cleaned_pdf, csv_docs\n",
    "\n",
    "  def text_split(self, pdf_docs, csv_docs):\n",
    "    splits = []\n",
    "\n",
    "    for doc in pdf_docs:\n",
    "      if len(doc['text']) > 10:\n",
    "        splits.extend(self.text_splitter.split_text(doc['text']))\n",
    "\n",
    "    for doc in csv_docs:\n",
    "        splits.extend(self.text_splitter.split_text(doc.page_content))\n",
    "\n",
    "    return splits\n",
    "\n",
    "  def create_vectorstore(self, splits):\n",
    "    return Chroma.from_texts(\n",
    "        splits,\n",
    "        self.embedding_model,\n",
    "        collection_name='emergency_manual',\n",
    "        persist_directory='./db/chromadb_1',\n",
    "        collection_metadata={'hnsw:space': 'cosine'}\n",
    "    )\n",
    "\n",
    "  def create_retriever(self, vector_store):\n",
    "    return vector_store.as_retriever(\n",
    "      search_type=\"mmr\",\n",
    "      search_kwargs={\n",
    "          \"k\": 20,\n",
    "          \"alpha\": 0.5,\n",
    "      }\n",
    "    )\n",
    "\n",
    "  def format_docs(self, docs):\n",
    "      return '\\n\\n'.join([d.page_content for d in docs])\n",
    "\n",
    "  def create_rag_chain(self):\n",
    "    pdf_docs, csv_docs = self.load_data()\n",
    "    pdf_docs, csv_docs = self.preprocess(pdf_docs, csv_docs)\n",
    "    splits = self.text_split(pdf_docs, csv_docs)\n",
    "    vector_store = self.create_vectorstore(splits)\n",
    "    retriever = self.create_retriever(vector_store)\n",
    "\n",
    "    return {'context': retriever | self.format_docs, 'question':RunnablePassthrough()} | self.prompt | self.model | StrOutputParser()"
   ]
  },
  {
   "cell_type": "markdown",
   "metadata": {
    "id": "_hVlE3d-J5An"
   },
   "source": [
    "## Create Chain"
   ]
  },
  {
   "cell_type": "code",
   "execution_count": 11,
   "metadata": {
    "id": "c90NSKWWHNtU"
   },
   "outputs": [],
   "source": [
    "chainer = EmergencyRAGChainer(pdf_path, csv_path)\n",
    "\n",
    "chain = chainer.create_rag_chain()"
   ]
  },
  {
   "cell_type": "markdown",
   "metadata": {
    "id": "uzzyzVb0J7Jk"
   },
   "source": [
    "## Invoke Chain"
   ]
  },
  {
   "cell_type": "code",
   "execution_count": 12,
   "metadata": {
    "colab": {
     "base_uri": "https://localhost:8080/"
    },
    "id": "OfqBwXxTHYX6",
    "outputId": "8b87f4ae-9219-4358-9d85-e5cc062c438c"
   },
   "outputs": [
    {
     "name": "stdout",
     "output_type": "stream",
     "text": [
      "심정지 상황에서의 응급처치 절차는 다음과 같습니다:\n",
      "\n",
      "1. **안전 확인**: 주변 환경이 안전한지 확인합니다.\n",
      "2. **반응 확인**: 환자를 가볍게 흔들거나 소리쳐서 반응이 있는지 확인합니다.\n",
      "3. **응급전화 요청**: 반응이 없으면 즉시 119에 전화하여 도움을 요청합니다.\n",
      "4. **CPR 시작**: \n",
      "   - 환자를 평평한 바닥에 눕히고, 가슴 중앙에 손을 겹쳐 놓습니다.\n",
      "   - 팔을 곧게 펴고, 체중을 실어 가슴을 약 5~6cm 깊이로 압박합니다.\n",
      "   - 30회의 압박 후, 기도를 확보하고 인공호흡 2회를 실시합니다.\n",
      "   - 이 과정을 반복합니다.\n",
      "5. **자동심장충격기(AED) 사용**: AED가 있다면 즉시 사용하여 지시에 따릅니다.\n",
      "\n",
      "이 절차를 통해 심정지 환자의 생명을 구할 수 있습니다.\n"
     ]
    }
   ],
   "source": [
    "query = '심정지 상황 응급처치 절차'\n",
    "\n",
    "print(chain.invoke(query))"
   ]
  }
 ],
 "metadata": {
  "colab": {
   "collapsed_sections": [
    "q0RGzs82f9_j",
    "fSX0gtnZgWu1",
    "OfsTxu2rJ2LE",
    "_hVlE3d-J5An"
   ],
   "provenance": []
  },
  "kernelspec": {
   "display_name": "pjt3",
   "language": "python",
   "name": "python3"
  },
  "language_info": {
   "codemirror_mode": {
    "name": "ipython",
    "version": 3
   },
   "file_extension": ".py",
   "mimetype": "text/x-python",
   "name": "python",
   "nbconvert_exporter": "python",
   "pygments_lexer": "ipython3",
   "version": "3.10.15"
  }
 },
 "nbformat": 4,
 "nbformat_minor": 0
}
